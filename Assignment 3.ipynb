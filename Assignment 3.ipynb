{
 "cells": [
  {
   "cell_type": "code",
   "execution_count": 1,
   "metadata": {},
   "outputs": [
    {
     "name": "stdout",
     "output_type": "stream",
     "text": [
      "Americans play Baseball\n",
      "Americans play cricket\n",
      "Americans Watch Baseball\n",
      "Americans Watch cricket\n",
      "Indians play Baseball\n",
      "Indians play cricket\n",
      "Indians Watch Baseball\n",
      "Indians Watch cricket\n"
     ]
    }
   ],
   "source": [
    "a=['Americans','Indians']\n",
    "b=['play','Watch']\n",
    "c=['Baseball','cricket']\n",
    "d=[print(i,j,k) for i in a for j in b for k in c]\n"
   ]
  },
  {
   "cell_type": "code",
   "execution_count": 2,
   "metadata": {},
   "outputs": [
    {
     "name": "stdout",
     "output_type": "stream",
     "text": [
      "Enter a number:5\n",
      "1.0\n"
     ]
    }
   ],
   "source": [
    "while True:\n",
    "    try:\n",
    "        x=int(input(\"Enter a number:\"))\n",
    "        y=5/x\n",
    "        print(y)\n",
    "    except:\n",
    "        print(\"Please try to enter an integer\")\n",
    "    else:\n",
    "        break"
   ]
  },
  {
   "cell_type": "code",
   "execution_count": null,
   "metadata": {},
   "outputs": [],
   "source": []
  }
 ],
 "metadata": {
  "kernelspec": {
   "display_name": "Python 3",
   "language": "python",
   "name": "python3"
  },
  "language_info": {
   "codemirror_mode": {
    "name": "ipython",
    "version": 3
   },
   "file_extension": ".py",
   "mimetype": "text/x-python",
   "name": "python",
   "nbconvert_exporter": "python",
   "pygments_lexer": "ipython3",
   "version": "3.7.6"
  }
 },
 "nbformat": 4,
 "nbformat_minor": 4
}
